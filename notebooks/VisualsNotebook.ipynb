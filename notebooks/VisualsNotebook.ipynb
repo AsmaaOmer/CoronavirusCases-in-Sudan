{
 "cells": [
  {
   "cell_type": "markdown",
   "metadata": {},
   "source": [
    "# About The Notebook\n",
    "We are going to collect and explore data related to Coronavirus \"COVID-19\" spread in Sudan.\n",
    "\n",
    "The notebook/data will be updated over time."
   ]
  },
  {
   "cell_type": "markdown",
   "metadata": {},
   "source": [
    "## Packages"
   ]
  },
  {
   "cell_type": "code",
   "execution_count": 15,
   "metadata": {
    "ExecuteTime": {
     "end_time": "2020-03-18T17:18:57.917985Z",
     "start_time": "2020-03-18T17:18:54.983803Z"
    },
    "scrolled": true
   },
   "outputs": [],
   "source": [
    "import os\n",
    "import pandas as pd\n",
    "import seaborn as sns\n",
    "from datetime import datetime\n",
    "import matplotlib.pyplot as plt\n",
    "import warnings\n",
    "import numpy as np\n",
    "from textwrap import wrap\n",
    "from matplotlib import ticker\n",
    "\n",
    "%matplotlib inline"
   ]
  },
  {
   "cell_type": "markdown",
   "metadata": {},
   "source": [
    "## Functions \n",
    "The functions used in the analysis"
   ]
  },
  {
   "cell_type": "code",
   "execution_count": 16,
   "metadata": {},
   "outputs": [],
   "source": [
    "def PlotLine(df,x_data, figsize=(10,6)):\n",
    "    \n",
    "    \"\"\"\n",
    "    Plot a line graph using matplotlib \n",
    "    -Arguments:\n",
    "        df: the data frame \n",
    "        x_data: x-axis data\n",
    "        figsize: figure size to make chart small or big  \n",
    "    -Return:\n",
    "        Nothing just show the graph\n",
    "    \"\"\"\n",
    "    fig, ax = plt.subplots(figsize=figsize)\n",
    "    data = df[x_data].value_counts().reset_index().sort_values(by='index')\n",
    "    data['DataCount'] = data[x_data].cumsum()\n",
    "    data.plot(x='index',y='DataCount',style='r*-',ax=ax,label='The cumulative occurrence frequency')\n",
    "    data.plot(x='index', y=x_data, style='g*-', ax=ax, label='Daily Infection')\n",
    "    plt.xticks(rotation=60)\n",
    "\n",
    "    \n",
    "def PieChart(df,x_data):\n",
    "    \n",
    "    \"\"\"\n",
    "    Plot a pie chart using matplotlib \n",
    "    -Arguments:\n",
    "        df: the data frame \n",
    "        x_data: x-axis data\n",
    "    -Return:\n",
    "        Nothing just show the graph\n",
    "    \"\"\"\n",
    "    \n",
    "    X = df[x_data].value_counts()\n",
    "    plt.pie(X.values, labels=X.index)\n",
    "    plt.axis('equal')\n",
    "    plt.show()\n",
    "\n",
    "def BarChart(df,x_data,y_data, figsize=(8,4)):\n",
    "    \n",
    "    \"\"\"\n",
    "    Bar chart using seaborn \n",
    "    -Argumentss:\n",
    "        df: the data frame \n",
    "        x_data: x-axis data \n",
    "        y_data: y-axis data\n",
    "        figsize: figure size\n",
    "    -Returns:\n",
    "        Nothing just show the graph\n",
    "    \"\"\"\n",
    "    sns.set(font_scale = 5)\n",
    "    sns.set_style(\"darkgrid\", {\"axes.facecolor\": \".9\"})\n",
    "    sns.set_context(\"paper\")\n",
    "    fig, ax = plt.subplots(figsize=figsize)\n",
    "    ax = sns.barplot(x=x_data, y=y_data, data=df, color=\"g\")\n",
    "    Sum = df.values[:,1].sum()\n",
    "    for i, v in enumerate(df.values[:, 1]):\n",
    "        ax.text(v + 0.01, i + .20,'('+ str(v) + ')Cases')\n",
    "    plt.ylabel('')\n",
    "    plt.xlabel('')\n",
    "    labels = [ '\\n'.join(wrap(i, 10)) for i in df.values[:, 0]]\n",
    "    x_value=['{:,.0f}'.format(x/Sum * 100) + '%' for x in ax.get_xticks()]\n",
    "    ax.set_yticklabels(labels,fontsize=10)\n",
    "    plt.xticks(list(plt.xticks()[0]))\n",
    "    ax.set_xticklabels(x_value,fontsize=10)\n",
    "    ax.axes.set_title(\"COVID-19 Patients: Travelers vs Local Transmission\",fontsize=20)\n",
    "    "
   ]
  },
  {
   "cell_type": "markdown",
   "metadata": {},
   "source": [
    "## Data \n",
    "Check the load the data."
   ]
  },
  {
   "cell_type": "code",
   "execution_count": 17,
   "metadata": {
    "ExecuteTime": {
     "end_time": "2020-03-18T17:18:57.938556Z",
     "start_time": "2020-03-18T17:18:57.924684Z"
    }
   },
   "outputs": [
    {
     "name": "stdout",
     "output_type": "stream",
     "text": [
      "['NumberConfirmedOfCases.csv', 'Population_age_structure.csv']\n"
     ]
    }
   ],
   "source": [
    "print(os.listdir('../data'))\n",
    "df_number_of_cases = pd.read_csv('../data/NumberConfirmedOfCases.csv')"
   ]
  },
  {
   "cell_type": "markdown",
   "metadata": {},
   "source": [
    "## View and Convert the Data\n",
    "Show the data format and from the data file: convert `date` to the correct data type."
   ]
  },
  {
   "cell_type": "code",
   "execution_count": 18,
   "metadata": {
    "ExecuteTime": {
     "end_time": "2020-03-18T17:18:58.023628Z",
     "start_time": "2020-03-18T17:18:57.982989Z"
    }
   },
   "outputs": [
    {
     "data": {
      "text/html": [
       "<div>\n",
       "<style scoped>\n",
       "    .dataframe tbody tr th:only-of-type {\n",
       "        vertical-align: middle;\n",
       "    }\n",
       "\n",
       "    .dataframe tbody tr th {\n",
       "        vertical-align: top;\n",
       "    }\n",
       "\n",
       "    .dataframe thead th {\n",
       "        text-align: right;\n",
       "    }\n",
       "</style>\n",
       "<table border=\"1\" class=\"dataframe\">\n",
       "  <thead>\n",
       "    <tr style=\"text-align: right;\">\n",
       "      <th></th>\n",
       "      <th>Date</th>\n",
       "      <th>Cases</th>\n",
       "      <th>Recovery</th>\n",
       "      <th>Death</th>\n",
       "      <th>Travel history</th>\n",
       "      <th>Age</th>\n",
       "      <th>Country</th>\n",
       "      <th>Gender</th>\n",
       "    </tr>\n",
       "  </thead>\n",
       "  <tbody>\n",
       "    <tr>\n",
       "      <th>0</th>\n",
       "      <td>2020-03-12</td>\n",
       "      <td>1</td>\n",
       "      <td>0</td>\n",
       "      <td>1.0</td>\n",
       "      <td>Recent traveller</td>\n",
       "      <td>NaN</td>\n",
       "      <td>Sudan</td>\n",
       "      <td>Male</td>\n",
       "    </tr>\n",
       "    <tr>\n",
       "      <th>1</th>\n",
       "      <td>2020-03-20</td>\n",
       "      <td>1</td>\n",
       "      <td>1</td>\n",
       "      <td>0.0</td>\n",
       "      <td>Recent traveller</td>\n",
       "      <td>NaN</td>\n",
       "      <td>Not identified</td>\n",
       "      <td>Male</td>\n",
       "    </tr>\n",
       "    <tr>\n",
       "      <th>2</th>\n",
       "      <td>2020-03-24</td>\n",
       "      <td>1</td>\n",
       "      <td>0</td>\n",
       "      <td>0.0</td>\n",
       "      <td>Recent traveller</td>\n",
       "      <td>NaN</td>\n",
       "      <td>Sudan</td>\n",
       "      <td>Male</td>\n",
       "    </tr>\n",
       "    <tr>\n",
       "      <th>3</th>\n",
       "      <td>2020-03-25</td>\n",
       "      <td>1</td>\n",
       "      <td>0</td>\n",
       "      <td>0.0</td>\n",
       "      <td>Recent traveller</td>\n",
       "      <td>NaN</td>\n",
       "      <td>India</td>\n",
       "      <td>Male</td>\n",
       "    </tr>\n",
       "    <tr>\n",
       "      <th>4</th>\n",
       "      <td>2020-03-25</td>\n",
       "      <td>1</td>\n",
       "      <td>0</td>\n",
       "      <td>0.0</td>\n",
       "      <td>Recent traveller</td>\n",
       "      <td>NaN</td>\n",
       "      <td>Sudan</td>\n",
       "      <td>Male</td>\n",
       "    </tr>\n",
       "  </tbody>\n",
       "</table>\n",
       "</div>"
      ],
      "text/plain": [
       "         Date  Cases  Recovery  Death    Travel history  Age          Country  \\\n",
       "0  2020-03-12      1         0    1.0  Recent traveller   NaN           Sudan   \n",
       "1  2020-03-20      1         1    0.0  Recent traveller   NaN  Not identified   \n",
       "2  2020-03-24      1         0    0.0  Recent traveller   NaN           Sudan   \n",
       "3  2020-03-25      1         0    0.0  Recent traveller   NaN           India   \n",
       "4  2020-03-25      1         0    0.0  Recent traveller   NaN           Sudan   \n",
       "\n",
       "  Gender  \n",
       "0   Male  \n",
       "1   Male  \n",
       "2   Male  \n",
       "3   Male  \n",
       "4   Male  "
      ]
     },
     "execution_count": 18,
     "metadata": {},
     "output_type": "execute_result"
    }
   ],
   "source": [
    "df_number_of_cases['Date'] = df_number_of_cases.apply(lambda x: datetime.strptime(x['Date'], '%d-%m-%Y').date(), axis=1)\n",
    "df_number_of_cases.head()"
   ]
  },
  {
   "cell_type": "markdown",
   "metadata": {},
   "source": [
    "### Visualizations\n",
    "Viusalize our data and et's see the daily infections."
   ]
  },
  {
   "cell_type": "code",
   "execution_count": 19,
   "metadata": {
    "ExecuteTime": {
     "end_time": "2020-03-18T17:19:00.390750Z",
     "start_time": "2020-03-18T17:18:59.850294Z"
    },
    "scrolled": false
   },
   "outputs": [
    {
     "data": {
      "image/png": "[encoded data removed]",
      "text/plain": [
       "<Figure size 720x432 with 1 Axes>"
      ]
     },
     "metadata": {
      "needs_background": "light"
     },
     "output_type": "display_data"
    }
   ],
   "source": [
    "PlotLine(df_number_of_cases, 'Date')"
   ]
  },
  {
   "cell_type": "markdown",
   "metadata": {},
   "source": [
    "## Travel history \n",
    "\n",
    "This is a visuala on of the COVID-19 patient travel history"
   ]
  },
  {
   "cell_type": "code",
   "execution_count": 20,
   "metadata": {},
   "outputs": [
    {
     "data": {
      "image/png": "[encoded data removed]",
      "text/plain": [
       "<Figure size 720x432 with 1 Axes>"
      ]
     },
     "metadata": {},
     "output_type": "display_data"
    }
   ],
   "source": [
    "BarChart(df_number_of_cases['Travel history'].value_counts().reset_index(),'Travel history', 'index', figsize=(10,6))"
   ]
  },
  {
   "cell_type": "markdown",
   "metadata": {
    "ExecuteTime": {
     "end_time": "2020-03-14T10:40:37.077428Z",
     "start_time": "2020-03-14T10:40:36.980607Z"
    }
   },
   "source": [
    "### Gender\n",
    "The gender distribution of the COVID-19 patient.\n"
   ]
  },
  {
   "cell_type": "code",
   "execution_count": 23,
   "metadata": {
    "ExecuteTime": {
     "end_time": "2020-03-18T17:19:00.887878Z",
     "start_time": "2020-03-18T17:19:00.780722Z"
    }
   },
   "outputs": [
    {
     "data": {
      "image/png": "[encoded data removed]",
      "text/plain": [
       "<Figure size 432x288 with 1 Axes>"
      ]
     },
     "metadata": {},
     "output_type": "display_data"
    }
   ],
   "source": [
    "PieChart(df_number_of_cases, 'Gender')"
   ]
  },
  {
   "cell_type": "markdown",
   "metadata": {},
   "source": [
    "## Pations nationalties "
   ]
  },
  {
   "cell_type": "code",
   "execution_count": 22,
   "metadata": {},
   "outputs": [
    {
     "data": {
      "image/png": "[encoded data removed]",
      "text/plain": [
       "<Figure size 432x288 with 1 Axes>"
      ]
     },
     "metadata": {},
     "output_type": "display_data"
    }
   ],
   "source": [
    "PieChart(df_number_of_cases, 'Country')"
   ]
  },
  {
   "cell_type": "code",
   "execution_count": null,
   "metadata": {},
   "outputs": [],
   "source": []
  },
  {
   "cell_type": "code",
   "execution_count": null,
   "metadata": {},
   "outputs": [],
   "source": []
  }
 ],
 "metadata": {
  "kernelspec": {
   "display_name": "Python 3",
   "language": "python",
   "name": "python3"
  },
  "language_info": {
   "codemirror_mode": {
    "name": "ipython",
    "version": 3
   },
   "file_extension": ".py",
   "mimetype": "text/x-python",
   "name": "python",
   "nbconvert_exporter": "python",
   "pygments_lexer": "ipython3",
   "version": "3.7.3"
  }
 },
 "nbformat": 4,
 "nbformat_minor": 4
}
