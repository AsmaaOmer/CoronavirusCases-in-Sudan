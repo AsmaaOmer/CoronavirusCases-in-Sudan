{
 "cells": [
  {
   "cell_type": "code",
   "execution_count": 37,
   "metadata": {},
   "outputs": [],
   "source": [
    "import warnings\n",
    "import itertools\n",
    "import numpy as np\n",
    "import matplotlib.pyplot as plt\n",
    "warnings.filterwarnings(\"ignore\")\n",
    "plt.style.use('fivethirtyeight')\n",
    "import pandas as pd\n",
    "import statsmodels.api as sm\n",
    "import matplotlib\n",
    "import os\n",
    "import seaborn as sns\n",
    "from datetime import datetime\n",
    "from textwrap import wrap\n",
    "from matplotlib import ticker\n",
    "\n",
    "\n",
    "%matplotlib inline\n",
    "\n",
    "matplotlib.rcParams['axes.labelsize'] = 14\n",
    "matplotlib.rcParams['xtick.labelsize'] = 12\n",
    "matplotlib.rcParams['ytick.labelsize'] = 12\n",
    "matplotlib.rcParams['text.color'] = 'k'"
   ]
  },
  {
   "cell_type": "markdown",
   "metadata": {},
   "source": [
    "We are going to do time series analysis and forecasting for furniture sales."
   ]
  },
  {
   "cell_type": "code",
   "execution_count": 38,
   "metadata": {},
   "outputs": [
    {
     "data": {
      "text/html": [
       "<div>\n",
       "<style scoped>\n",
       "    .dataframe tbody tr th:only-of-type {\n",
       "        vertical-align: middle;\n",
       "    }\n",
       "\n",
       "    .dataframe tbody tr th {\n",
       "        vertical-align: top;\n",
       "    }\n",
       "\n",
       "    .dataframe thead th {\n",
       "        text-align: right;\n",
       "    }\n",
       "</style>\n",
       "<table border=\"1\" class=\"dataframe\">\n",
       "  <thead>\n",
       "    <tr style=\"text-align: right;\">\n",
       "      <th></th>\n",
       "      <th>Date</th>\n",
       "      <th>Cases</th>\n",
       "    </tr>\n",
       "  </thead>\n",
       "  <tbody>\n",
       "    <tr>\n",
       "      <th>0</th>\n",
       "      <td>2020-03-12</td>\n",
       "      <td>1</td>\n",
       "    </tr>\n",
       "    <tr>\n",
       "      <th>1</th>\n",
       "      <td>2020-03-20</td>\n",
       "      <td>1</td>\n",
       "    </tr>\n",
       "    <tr>\n",
       "      <th>2</th>\n",
       "      <td>2020-03-24</td>\n",
       "      <td>1</td>\n",
       "    </tr>\n",
       "    <tr>\n",
       "      <th>3</th>\n",
       "      <td>2020-03-25</td>\n",
       "      <td>2</td>\n",
       "    </tr>\n",
       "    <tr>\n",
       "      <th>4</th>\n",
       "      <td>2020-03-29</td>\n",
       "      <td>1</td>\n",
       "    </tr>\n",
       "  </tbody>\n",
       "</table>\n",
       "</div>"
      ],
      "text/plain": [
       "         Date  Cases\n",
       "0  2020-03-12      1\n",
       "1  2020-03-20      1\n",
       "2  2020-03-24      1\n",
       "3  2020-03-25      2\n",
       "4  2020-03-29      1"
      ]
     },
     "execution_count": 38,
     "metadata": {},
     "output_type": "execute_result"
    }
   ],
   "source": [
    "#print(os.listdir('../data'))\n",
    "df = pd.read_csv('../data/NumberConfirmedOfCases.csv')\n",
    "df['Date'] = df.apply(lambda x: datetime.strptime(x['Date'], '%d-%m-%Y').date(), axis=1) #convert the date\n",
    "df = df.groupby('Date')['Cases'].sum().reset_index() #group the data\n",
    "df.head()"
   ]
  },
  {
   "cell_type": "code",
   "execution_count": 39,
   "metadata": {},
   "outputs": [],
   "source": [
    "import datetime\n",
    "df['Date'] = pd.to_datetime(df['Date'])\n",
    "df['Date'] = df['Date'].map(datetime.datetime.toordinal)\n",
    "#sns.lmplot(x =\"Date\", y =\"Cases\", data = df, order = 2, ci = None) \n",
    "\n",
    "# Plotting the data scatter \n",
    "#print(df['Date'])"
   ]
  },
  {
   "cell_type": "code",
   "execution_count": 40,
   "metadata": {},
   "outputs": [
    {
     "name": "stdout",
     "output_type": "stream",
     "text": [
      "Estimated coefficients:\n",
      "b_0 = -85212.73668431118 \\ \n",
      "b_1 = 0.11554302940153598\n"
     ]
    },
    {
     "data": {
      "image/png": "[encoded data removed]",
      "text/plain": [
       "<Figure size 432x288 with 1 Axes>"
      ]
     },
     "metadata": {
      "needs_background": "light"
     },
     "output_type": "display_data"
    }
   ],
   "source": [
    "def estimate_coef(x, y): \n",
    " # number of observations/points \n",
    "    n = np.size(x) \n",
    "\n",
    "    # mean of x and y vector \n",
    "    m_x, m_y = np.mean(x), np.mean(y) \n",
    "\n",
    "    # calculating cross-deviation and deviation about x \n",
    "    SS_xy = np.sum(y*x) - n*m_y*m_x \n",
    "    SS_xx = np.sum(x*x) - n*m_x*m_x \n",
    "\n",
    "    # calculating regression coefficients \n",
    "    b_1 = SS_xy / SS_xx \n",
    "    b_0 = m_y - b_1*m_x \n",
    "\n",
    "    return(b_0, b_1) \n",
    "\n",
    "def plot_regression_line(x, y, b): \n",
    "    # plotting the actual points as scatter plot \n",
    "    plt.scatter(x, y, color = \"m\", \n",
    "            marker = \"o\", s = 30) \n",
    "\n",
    "    # predicted response vector \n",
    "    y_pred = b[0] + b[1]*x \n",
    "\n",
    "    # plotting the regression line \n",
    "    plt.plot(x, y_pred, color = \"g\") \n",
    "\n",
    "    # putting labels \n",
    "    plt.xlabel('x') \n",
    "    plt.ylabel('y') \n",
    "\n",
    "    # function to show plot \n",
    "    plt.show() \n",
    "\n",
    "def main(): \n",
    "    # observations \n",
    "    x = df['Date']\n",
    "    y = df['Cases']\n",
    "\n",
    "    # estimating coefficients \n",
    "    b = estimate_coef(x, y) \n",
    "    print(\"Estimated coefficients:\\nb_0 = {} \\ \\nb_1 = {}\".format(b[0], b[1])) \n",
    "\n",
    "    # plotting regression line \n",
    "    plot_regression_line(x, y, b) \n",
    "\n",
    "if __name__ == \"__main__\": \n",
    "    main() \n"
   ]
  },
  {
   "cell_type": "code",
   "execution_count": null,
   "metadata": {},
   "outputs": [],
   "source": []
  },
  {
   "cell_type": "code",
   "execution_count": 42,
   "metadata": {},
   "outputs": [
    {
     "name": "stdout",
     "output_type": "stream",
     "text": [
      "Intercept    0.972849\n",
      "date         0.010186\n",
      "dtype: float64\n",
      "------------------\n",
      "------------------\n",
      "Intercept    0.264318\n",
      "date         0.092094\n",
      "dtype: float64\n",
      "------------------\n",
      "------------------\n",
      "0.2182959732600982\n",
      "                            OLS Regression Results                            \n",
      "==============================================================================\n",
      "Dep. Variable:                  Cases   R-squared:                       0.218\n",
      "Model:                            OLS   Adj. R-squared:                  0.153\n",
      "Method:                 Least Squares   F-statistic:                     3.351\n",
      "Date:                Mon, 13 Apr 2020   Prob (F-statistic):             0.0921\n",
      "Time:                        21:53:18   Log-Likelihood:                -29.499\n",
      "No. Observations:                  14   AIC:                             63.00\n",
      "Df Residuals:                      12   BIC:                             64.28\n",
      "Df Model:                           1                                         \n",
      "Covariance Type:            nonrobust                                         \n",
      "==============================================================================\n",
      "                 coef    std err          t      P>|t|      [0.025      0.975]\n",
      "------------------------------------------------------------------------------\n",
      "Intercept      0.9728      0.831      1.171      0.264      -0.837       2.783\n",
      "date           0.0102      0.006      1.831      0.092      -0.002       0.022\n",
      "==============================================================================\n",
      "Omnibus:                       19.675   Durbin-Watson:                   2.328\n",
      "Prob(Omnibus):                  0.000   Jarque-Bera (JB):               18.806\n",
      "Skew:                           1.911   Prob(JB):                     8.25e-05\n",
      "Kurtosis:                       7.199   Cond. No.                         216.\n",
      "==============================================================================\n",
      "\n",
      "Warnings:\n",
      "[1] Standard Errors assume that the covariance matrix of the errors is correctly specified.\n"
     ]
    }
   ],
   "source": [
    "import pandas as pd\n",
    "\n",
    "from pandas import DataFrame, Series\n",
    "\n",
    "import statsmodels.formula.api as sm\n",
    "#print(os.listdir('../data'))\n",
    "df = pd.read_csv('../data/NumberConfirmedOfCases.csv')\n",
    "df = df.groupby('Date')['Cases'].sum().reset_index() #group the data\n",
    "#print(df.head())\n",
    "df['Date'] = pd.to_datetime(df['Date'])    \n",
    "df['date'] = (df['Date'] - df['Date'].min())  / np.timedelta64(1,'D') \n",
    "\n",
    "#different formulas to convert the dates gives different coef, look at the date values.\n",
    "\n",
    "#df['date'] = df['Date'].map(datetime.datetime.toordinal)\n",
    "#print(df['date'])\n",
    "result = sm.ols(formula = 'Cases ~ date', data = df).fit()\n",
    "print(result.params)\n",
    "print('------------------')\n",
    "print('------------------')\n",
    "print(result.pvalues)\n",
    "print('------------------')\n",
    "print('------------------')\n",
    "print(result.rsquared)\n",
    "print(result.summary())"
   ]
  },
  {
   "cell_type": "code",
   "execution_count": null,
   "metadata": {
    "scrolled": false
   },
   "outputs": [],
   "source": []
  },
  {
   "cell_type": "code",
   "execution_count": null,
   "metadata": {},
   "outputs": [],
   "source": []
  }
 ],
 "metadata": {
  "kernelspec": {
   "display_name": "Python 3",
   "language": "python",
   "name": "python3"
  },
  "language_info": {
   "codemirror_mode": {
    "name": "ipython",
    "version": 3
   },
   "file_extension": ".py",
   "mimetype": "text/x-python",
   "name": "python",
   "nbconvert_exporter": "python",
   "pygments_lexer": "ipython3",
   "version": "3.7.3"
  }
 },
 "nbformat": 4,
 "nbformat_minor": 2
}
